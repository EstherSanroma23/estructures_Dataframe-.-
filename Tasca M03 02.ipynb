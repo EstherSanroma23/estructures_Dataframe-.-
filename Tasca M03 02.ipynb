{
 "cells": [
  {
   "cell_type": "markdown",
   "id": "3f8f1e7e",
   "metadata": {},
   "source": [
    "## Tasca M3T02\n",
    "### Exercici 1\n",
    "#### Descarrega el data set Airlines Delay: Airline on-time statistics and delay causes i carrega’l a un Pandas Dataframe. Explora les dades que conté, explica breument quines variables hi ha i queda’t únicament amb les columnes que consideris rellevants. Justifica la teva elecció."
   ]
  },
  {
   "cell_type": "code",
   "execution_count": 357,
   "id": "ab62bbfd",
   "metadata": {},
   "outputs": [
    {
     "name": "stdout",
     "output_type": "stream",
     "text": [
      "         Unnamed: 0  Year  Month  DayofMonth  DayOfWeek  DepTime  CRSDepTime  \\\n",
      "0                 0  2008      1           3          4   2003.0        1955   \n",
      "1                 1  2008      1           3          4    754.0         735   \n",
      "2                 2  2008      1           3          4    628.0         620   \n",
      "3                 4  2008      1           3          4   1829.0        1755   \n",
      "4                 5  2008      1           3          4   1940.0        1915   \n",
      "...             ...   ...    ...         ...        ...      ...         ...   \n",
      "1936753     7009710  2008     12          13          6   1250.0        1220   \n",
      "1936754     7009717  2008     12          13          6    657.0         600   \n",
      "1936755     7009718  2008     12          13          6   1007.0         847   \n",
      "1936756     7009726  2008     12          13          6   1251.0        1240   \n",
      "1936757     7009727  2008     12          13          6   1110.0        1103   \n",
      "\n",
      "         ArrTime  CRSArrTime UniqueCarrier  ...  TaxiIn TaxiOut  Cancelled  \\\n",
      "0         2211.0        2225            WN  ...     4.0     8.0          0   \n",
      "1         1002.0        1000            WN  ...     5.0    10.0          0   \n",
      "2          804.0         750            WN  ...     3.0    17.0          0   \n",
      "3         1959.0        1925            WN  ...     3.0    10.0          0   \n",
      "4         2121.0        2110            WN  ...     4.0    10.0          0   \n",
      "...          ...         ...           ...  ...     ...     ...        ...   \n",
      "1936753   1617.0        1552            DL  ...     9.0    18.0          0   \n",
      "1936754    904.0         749            DL  ...    15.0    34.0          0   \n",
      "1936755   1149.0        1010            DL  ...     8.0    32.0          0   \n",
      "1936756   1446.0        1437            DL  ...    13.0    13.0          0   \n",
      "1936757   1413.0        1418            DL  ...     8.0    11.0          0   \n",
      "\n",
      "         CancellationCode  Diverted  CarrierDelay  WeatherDelay NASDelay  \\\n",
      "0                       N         0           NaN           NaN      NaN   \n",
      "1                       N         0           NaN           NaN      NaN   \n",
      "2                       N         0           NaN           NaN      NaN   \n",
      "3                       N         0           2.0           0.0      0.0   \n",
      "4                       N         0           NaN           NaN      NaN   \n",
      "...                   ...       ...           ...           ...      ...   \n",
      "1936753                 N         0           3.0           0.0      0.0   \n",
      "1936754                 N         0           0.0          57.0     18.0   \n",
      "1936755                 N         0           1.0           0.0     19.0   \n",
      "1936756                 N         0           NaN           NaN      NaN   \n",
      "1936757                 N         0           NaN           NaN      NaN   \n",
      "\n",
      "        SecurityDelay  LateAircraftDelay  \n",
      "0                 NaN                NaN  \n",
      "1                 NaN                NaN  \n",
      "2                 NaN                NaN  \n",
      "3                 0.0               32.0  \n",
      "4                 NaN                NaN  \n",
      "...               ...                ...  \n",
      "1936753           0.0               22.0  \n",
      "1936754           0.0                0.0  \n",
      "1936755           0.0               79.0  \n",
      "1936756           NaN                NaN  \n",
      "1936757           NaN                NaN  \n",
      "\n",
      "[1936758 rows x 30 columns]\n"
     ]
    }
   ],
   "source": [
    "import numpy as np\n",
    "import pandas as pd\n",
    "df = pd.read_csv (\"/Users/esthersanroma/Desktop/DATA SCIENCES/archive/DelayedFlights.csv\")\n",
    "print(df)"
   ]
  },
  {
   "cell_type": "code",
   "execution_count": 358,
   "id": "e13b339b",
   "metadata": {},
   "outputs": [
    {
     "name": "stdout",
     "output_type": "stream",
     "text": [
      "Index(['Unnamed: 0', 'Year', 'Month', 'DayofMonth', 'DayOfWeek', 'DepTime',\n",
      "       'CRSDepTime', 'ArrTime', 'CRSArrTime', 'UniqueCarrier', 'FlightNum',\n",
      "       'TailNum', 'ActualElapsedTime', 'CRSElapsedTime', 'AirTime', 'ArrDelay',\n",
      "       'DepDelay', 'Origin', 'Dest', 'Distance', 'TaxiIn', 'TaxiOut',\n",
      "       'Cancelled', 'CancellationCode', 'Diverted', 'CarrierDelay',\n",
      "       'WeatherDelay', 'NASDelay', 'SecurityDelay', 'LateAircraftDelay'],\n",
      "      dtype='object')\n"
     ]
    }
   ],
   "source": [
    "print(df.columns)"
   ]
  },
  {
   "cell_type": "markdown",
   "id": "1c01543f",
   "metadata": {},
   "source": [
    "#### Es tracta d'una base de dades dels vols que arriben puntuals, en retard, cancel.lats i desviats durant l'any 2008. Consta de 30 columnes amb 1936758 files."
   ]
  },
  {
   "cell_type": "markdown",
   "id": "227aa399",
   "metadata": {},
   "source": [
    "#### Redueix la dimensió del dataset de manera aleatòria per tal d'obtenir un dataset de només 200.000 registres. Tots els exercicis s'han de fer amb aquest dataset reduït."
   ]
  },
  {
   "cell_type": "code",
   "execution_count": 359,
   "id": "446baa8a",
   "metadata": {},
   "outputs": [
    {
     "name": "stdout",
     "output_type": "stream",
     "text": [
      "         Unnamed: 0  Year  Month  DayofMonth  DayOfWeek  DepTime  CRSDepTime  \\\n",
      "82057        257638  2008      1           2          3    113.0        2205   \n",
      "1136665     3787817  2008      7           5          6   1850.0        1820   \n",
      "236643       753825  2008      2          11          1   1823.0        1731   \n",
      "1230797     4124762  2008      7          30          3   1723.0        1700   \n",
      "1404933     4772953  2008      8          16          6   2218.0        2205   \n",
      "...             ...   ...    ...         ...        ...      ...         ...   \n",
      "948398      3184311  2008      6          12          4   1953.0        1939   \n",
      "1230333     4123306  2008      7          15          2   1750.0        1640   \n",
      "800135      2656028  2008      5           9          5    731.0         725   \n",
      "1693421     6263824  2008     11          16          7   1926.0        1918   \n",
      "531134      1667708  2008      3          27          4   1638.0        1625   \n",
      "\n",
      "         ArrTime  CRSArrTime UniqueCarrier  ...  TaxiIn TaxiOut  Cancelled  \\\n",
      "82057      215.0        2321            US  ...     3.0     8.0          0   \n",
      "1136665   2015.0        1949            OO  ...     4.0    23.0          0   \n",
      "236643    2105.0        2016            OH  ...     5.0     7.0          0   \n",
      "1230797   2039.0        2025            AA  ...     3.0    13.0          0   \n",
      "1404933   2307.0        2300            AS  ...     4.0     4.0          0   \n",
      "...          ...         ...           ...  ...     ...     ...        ...   \n",
      "948398    2023.0        2005            OO  ...     9.0    10.0          0   \n",
      "1230333   2140.0        2030            AA  ...    11.0    14.0          0   \n",
      "800135     934.0         908            US  ...     7.0    14.0          0   \n",
      "1693421   2106.0        2110            FL  ...     9.0    11.0          0   \n",
      "531134    2001.0        1955            AA  ...    12.0    14.0          0   \n",
      "\n",
      "         CancellationCode  Diverted  CarrierDelay  WeatherDelay NASDelay  \\\n",
      "82057                   N         0           1.0           0.0      0.0   \n",
      "1136665                 N         0           0.0           0.0      0.0   \n",
      "236643                  N         0          49.0           0.0      0.0   \n",
      "1230797                 N         0           NaN           NaN      NaN   \n",
      "1404933                 N         0           NaN           NaN      NaN   \n",
      "...                   ...       ...           ...           ...      ...   \n",
      "948398                  N         0           0.0           0.0      4.0   \n",
      "1230333                 N         0          70.0           0.0      0.0   \n",
      "800135                  N         0           6.0           0.0     20.0   \n",
      "1693421                 N         0           NaN           NaN      NaN   \n",
      "531134                  N         0           NaN           NaN      NaN   \n",
      "\n",
      "        SecurityDelay  LateAircraftDelay  \n",
      "82057             0.0              173.0  \n",
      "1136665           0.0               26.0  \n",
      "236643            0.0                0.0  \n",
      "1230797           NaN                NaN  \n",
      "1404933           NaN                NaN  \n",
      "...               ...                ...  \n",
      "948398            0.0               14.0  \n",
      "1230333           0.0                0.0  \n",
      "800135            0.0                0.0  \n",
      "1693421           NaN                NaN  \n",
      "531134            NaN                NaN  \n",
      "\n",
      "[200000 rows x 30 columns]\n"
     ]
    }
   ],
   "source": [
    "df2= df.sample(200000)\n",
    "print(df2)"
   ]
  },
  {
   "cell_type": "markdown",
   "id": "2bc20d43",
   "metadata": {},
   "source": [
    "### Exercici 2\n",
    "#### Fes un informe complet del dataset:\n",
    "Resumeix estadísticament el dataset i les columnes d’interès. Fes una anàlisi estadístic del que consideris rellevant."
   ]
  },
  {
   "cell_type": "code",
   "execution_count": 360,
   "id": "858373e5",
   "metadata": {},
   "outputs": [
    {
     "name": "stdout",
     "output_type": "stream",
     "text": [
      "<class 'pandas.core.frame.DataFrame'>\n",
      "Int64Index: 200000 entries, 82057 to 531134\n",
      "Data columns (total 30 columns):\n",
      " #   Column             Non-Null Count   Dtype  \n",
      "---  ------             --------------   -----  \n",
      " 0   Unnamed: 0         200000 non-null  int64  \n",
      " 1   Year               200000 non-null  int64  \n",
      " 2   Month              200000 non-null  int64  \n",
      " 3   DayofMonth         200000 non-null  int64  \n",
      " 4   DayOfWeek          200000 non-null  int64  \n",
      " 5   DepTime            200000 non-null  float64\n",
      " 6   CRSDepTime         200000 non-null  int64  \n",
      " 7   ArrTime            199232 non-null  float64\n",
      " 8   CRSArrTime         200000 non-null  int64  \n",
      " 9   UniqueCarrier      200000 non-null  object \n",
      " 10  FlightNum          200000 non-null  int64  \n",
      " 11  TailNum            200000 non-null  object \n",
      " 12  ActualElapsedTime  199111 non-null  float64\n",
      " 13  CRSElapsedTime     199984 non-null  float64\n",
      " 14  AirTime            199111 non-null  float64\n",
      " 15  ArrDelay           199111 non-null  float64\n",
      " 16  DepDelay           200000 non-null  float64\n",
      " 17  Origin             200000 non-null  object \n",
      " 18  Dest               200000 non-null  object \n",
      " 19  Distance           200000 non-null  int64  \n",
      " 20  TaxiIn             199232 non-null  float64\n",
      " 21  TaxiOut            199955 non-null  float64\n",
      " 22  Cancelled          200000 non-null  int64  \n",
      " 23  CancellationCode   200000 non-null  object \n",
      " 24  Diverted           200000 non-null  int64  \n",
      " 25  CarrierDelay       128891 non-null  float64\n",
      " 26  WeatherDelay       128891 non-null  float64\n",
      " 27  NASDelay           128891 non-null  float64\n",
      " 28  SecurityDelay      128891 non-null  float64\n",
      " 29  LateAircraftDelay  128891 non-null  float64\n",
      "dtypes: float64(14), int64(11), object(5)\n",
      "memory usage: 47.3+ MB\n",
      "None\n"
     ]
    }
   ],
   "source": [
    "print(df2.info()) "
   ]
  },
  {
   "cell_type": "markdown",
   "id": "11a555f6",
   "metadata": {},
   "source": [
    "#### La base de dades, són les dades recollides durant el 2008 als EUA, sobre el retard dels avions, per diferentes causes. Les principals causes són CarrierDelay (neteja d'aeronaus, danys a l'aeronau, espera de l'arribada de passatgers o tripulació ....),WeatherDelay (Retras degut a les condicions metereològiques), NASDelay (retard que està sota el control del Sistema Nacional d'Espai Aeri NAS) , SecurityDelay (retard per seguretat, control d'acces amb cues....) i LateAircraftDelay (retard degut als anteriors retards de l'avió).\n",
    "#### Les dades consten de 1936758 files x 30 columnes, en hi han 14 (float64), 11(int64) i 5(object), en hi han 17 complertes, i 13 que falten un num de dades. Tambe trobem, el dia, mes, any, dia de la setmana, hora d'arribada ( si arriba 15 minuts tard es considera que no ha arribat tard), de sortida, retard d'arribada, retard de sortida, cancelacions, desviacions.... El temps esta medit amb minuts i la distancia en milles.Trobo interessant crea una columna amb nova amb el dia/Mes/Any, per poder calcular el dia concret. "
   ]
  },
  {
   "cell_type": "markdown",
   "id": "b4e11d64",
   "metadata": {},
   "source": [
    "#### Troba quantes dades faltants hi ha per columna."
   ]
  },
  {
   "cell_type": "code",
   "execution_count": 361,
   "id": "4a4610f3",
   "metadata": {
    "scrolled": false
   },
   "outputs": [
    {
     "data": {
      "text/plain": [
       "Unnamed: 0               0\n",
       "Year                     0\n",
       "Month                    0\n",
       "DayofMonth               0\n",
       "DayOfWeek                0\n",
       "DepTime                  0\n",
       "CRSDepTime               0\n",
       "ArrTime                768\n",
       "CRSArrTime               0\n",
       "UniqueCarrier            0\n",
       "FlightNum                0\n",
       "TailNum                  0\n",
       "ActualElapsedTime      889\n",
       "CRSElapsedTime          16\n",
       "AirTime                889\n",
       "ArrDelay               889\n",
       "DepDelay                 0\n",
       "Origin                   0\n",
       "Dest                     0\n",
       "Distance                 0\n",
       "TaxiIn                 768\n",
       "TaxiOut                 45\n",
       "Cancelled                0\n",
       "CancellationCode         0\n",
       "Diverted                 0\n",
       "CarrierDelay         71109\n",
       "WeatherDelay         71109\n",
       "NASDelay             71109\n",
       "SecurityDelay        71109\n",
       "LateAircraftDelay    71109\n",
       "dtype: int64"
      ]
     },
     "execution_count": 361,
     "metadata": {},
     "output_type": "execute_result"
    }
   ],
   "source": [
    "df2.isnull().sum() # Elements nuls per cada columna"
   ]
  },
  {
   "cell_type": "markdown",
   "id": "9704040b",
   "metadata": {},
   "source": [
    "#### Crea columnes noves (velocitat mitjana del vol, si ha arribat tard o no...).  "
   ]
  },
  {
   "cell_type": "code",
   "execution_count": 362,
   "id": "812acab8",
   "metadata": {},
   "outputs": [
    {
     "name": "stdout",
     "output_type": "stream",
     "text": [
      "82057      389.411765\n",
      "1136665    463.220339\n",
      "236643     324.000000\n",
      "1230797    464.500000\n",
      "1404933    381.951220\n",
      "              ...    \n",
      "948398     357.464789\n",
      "1230333    490.188679\n",
      "800135     389.189189\n",
      "1693421    435.750000\n",
      "531134     506.666667\n",
      "Name: VelocitatM, Length: 200000, dtype: float64\n"
     ]
    }
   ],
   "source": [
    "#Velocitat Mitjana= Distancia/Temps  \n",
    "df2[\"HoresAirT\"]=df2[\"AirTime\"]/60\n",
    "df2[\"VelocitatM\"]=df2[\"Distance\"]/df2[\"HoresAirT\"]\n",
    "print(df2[\"VelocitatM\"])"
   ]
  },
  {
   "cell_type": "code",
   "execution_count": 363,
   "id": "75880ca7",
   "metadata": {
    "scrolled": true
   },
   "outputs": [
    {
     "data": {
      "text/html": [
       "<div>\n",
       "<style scoped>\n",
       "    .dataframe tbody tr th:only-of-type {\n",
       "        vertical-align: middle;\n",
       "    }\n",
       "\n",
       "    .dataframe tbody tr th {\n",
       "        vertical-align: top;\n",
       "    }\n",
       "\n",
       "    .dataframe thead th {\n",
       "        text-align: right;\n",
       "    }\n",
       "</style>\n",
       "<table border=\"1\" class=\"dataframe\">\n",
       "  <thead>\n",
       "    <tr style=\"text-align: right;\">\n",
       "      <th></th>\n",
       "      <th>Unnamed: 0</th>\n",
       "      <th>Year</th>\n",
       "      <th>Month</th>\n",
       "      <th>DayofMonth</th>\n",
       "      <th>DayOfWeek</th>\n",
       "      <th>DepTime</th>\n",
       "      <th>CRSDepTime</th>\n",
       "      <th>ArrTime</th>\n",
       "      <th>CRSArrTime</th>\n",
       "      <th>UniqueCarrier</th>\n",
       "      <th>...</th>\n",
       "      <th>CancellationCode</th>\n",
       "      <th>Diverted</th>\n",
       "      <th>CarrierDelay</th>\n",
       "      <th>WeatherDelay</th>\n",
       "      <th>NASDelay</th>\n",
       "      <th>SecurityDelay</th>\n",
       "      <th>LateAircraftDelay</th>\n",
       "      <th>HoresAirT</th>\n",
       "      <th>VelocitatM</th>\n",
       "      <th>Retard</th>\n",
       "    </tr>\n",
       "  </thead>\n",
       "  <tbody>\n",
       "    <tr>\n",
       "      <th>82057</th>\n",
       "      <td>257638</td>\n",
       "      <td>2008</td>\n",
       "      <td>1</td>\n",
       "      <td>2</td>\n",
       "      <td>3</td>\n",
       "      <td>113.0</td>\n",
       "      <td>2205</td>\n",
       "      <td>215.0</td>\n",
       "      <td>2321</td>\n",
       "      <td>US</td>\n",
       "      <td>...</td>\n",
       "      <td>N</td>\n",
       "      <td>0</td>\n",
       "      <td>1.0</td>\n",
       "      <td>0.0</td>\n",
       "      <td>0.0</td>\n",
       "      <td>0.0</td>\n",
       "      <td>173.0</td>\n",
       "      <td>0.850000</td>\n",
       "      <td>389.411765</td>\n",
       "      <td>True</td>\n",
       "    </tr>\n",
       "    <tr>\n",
       "      <th>1136665</th>\n",
       "      <td>3787817</td>\n",
       "      <td>2008</td>\n",
       "      <td>7</td>\n",
       "      <td>5</td>\n",
       "      <td>6</td>\n",
       "      <td>1850.0</td>\n",
       "      <td>1820</td>\n",
       "      <td>2015.0</td>\n",
       "      <td>1949</td>\n",
       "      <td>OO</td>\n",
       "      <td>...</td>\n",
       "      <td>N</td>\n",
       "      <td>0</td>\n",
       "      <td>0.0</td>\n",
       "      <td>0.0</td>\n",
       "      <td>0.0</td>\n",
       "      <td>0.0</td>\n",
       "      <td>26.0</td>\n",
       "      <td>1.966667</td>\n",
       "      <td>463.220339</td>\n",
       "      <td>True</td>\n",
       "    </tr>\n",
       "    <tr>\n",
       "      <th>236643</th>\n",
       "      <td>753825</td>\n",
       "      <td>2008</td>\n",
       "      <td>2</td>\n",
       "      <td>11</td>\n",
       "      <td>1</td>\n",
       "      <td>1823.0</td>\n",
       "      <td>1731</td>\n",
       "      <td>2105.0</td>\n",
       "      <td>2016</td>\n",
       "      <td>OH</td>\n",
       "      <td>...</td>\n",
       "      <td>N</td>\n",
       "      <td>0</td>\n",
       "      <td>49.0</td>\n",
       "      <td>0.0</td>\n",
       "      <td>0.0</td>\n",
       "      <td>0.0</td>\n",
       "      <td>0.0</td>\n",
       "      <td>2.500000</td>\n",
       "      <td>324.000000</td>\n",
       "      <td>True</td>\n",
       "    </tr>\n",
       "    <tr>\n",
       "      <th>1230797</th>\n",
       "      <td>4124762</td>\n",
       "      <td>2008</td>\n",
       "      <td>7</td>\n",
       "      <td>30</td>\n",
       "      <td>3</td>\n",
       "      <td>1723.0</td>\n",
       "      <td>1700</td>\n",
       "      <td>2039.0</td>\n",
       "      <td>2025</td>\n",
       "      <td>AA</td>\n",
       "      <td>...</td>\n",
       "      <td>N</td>\n",
       "      <td>0</td>\n",
       "      <td>NaN</td>\n",
       "      <td>NaN</td>\n",
       "      <td>NaN</td>\n",
       "      <td>NaN</td>\n",
       "      <td>NaN</td>\n",
       "      <td>2.000000</td>\n",
       "      <td>464.500000</td>\n",
       "      <td>False</td>\n",
       "    </tr>\n",
       "    <tr>\n",
       "      <th>1404933</th>\n",
       "      <td>4772953</td>\n",
       "      <td>2008</td>\n",
       "      <td>8</td>\n",
       "      <td>16</td>\n",
       "      <td>6</td>\n",
       "      <td>2218.0</td>\n",
       "      <td>2205</td>\n",
       "      <td>2307.0</td>\n",
       "      <td>2300</td>\n",
       "      <td>AS</td>\n",
       "      <td>...</td>\n",
       "      <td>N</td>\n",
       "      <td>0</td>\n",
       "      <td>NaN</td>\n",
       "      <td>NaN</td>\n",
       "      <td>NaN</td>\n",
       "      <td>NaN</td>\n",
       "      <td>NaN</td>\n",
       "      <td>0.683333</td>\n",
       "      <td>381.951220</td>\n",
       "      <td>False</td>\n",
       "    </tr>\n",
       "    <tr>\n",
       "      <th>1914502</th>\n",
       "      <td>6952536</td>\n",
       "      <td>2008</td>\n",
       "      <td>12</td>\n",
       "      <td>26</td>\n",
       "      <td>5</td>\n",
       "      <td>1848.0</td>\n",
       "      <td>1810</td>\n",
       "      <td>2108.0</td>\n",
       "      <td>2011</td>\n",
       "      <td>AS</td>\n",
       "      <td>...</td>\n",
       "      <td>N</td>\n",
       "      <td>0</td>\n",
       "      <td>0.0</td>\n",
       "      <td>0.0</td>\n",
       "      <td>19.0</td>\n",
       "      <td>0.0</td>\n",
       "      <td>38.0</td>\n",
       "      <td>1.966667</td>\n",
       "      <td>341.186441</td>\n",
       "      <td>True</td>\n",
       "    </tr>\n",
       "    <tr>\n",
       "      <th>329940</th>\n",
       "      <td>1042634</td>\n",
       "      <td>2008</td>\n",
       "      <td>2</td>\n",
       "      <td>16</td>\n",
       "      <td>6</td>\n",
       "      <td>1129.0</td>\n",
       "      <td>1010</td>\n",
       "      <td>1327.0</td>\n",
       "      <td>1159</td>\n",
       "      <td>9E</td>\n",
       "      <td>...</td>\n",
       "      <td>N</td>\n",
       "      <td>0</td>\n",
       "      <td>0.0</td>\n",
       "      <td>0.0</td>\n",
       "      <td>9.0</td>\n",
       "      <td>0.0</td>\n",
       "      <td>79.0</td>\n",
       "      <td>1.500000</td>\n",
       "      <td>397.333333</td>\n",
       "      <td>True</td>\n",
       "    </tr>\n",
       "    <tr>\n",
       "      <th>813647</th>\n",
       "      <td>2720327</td>\n",
       "      <td>2008</td>\n",
       "      <td>5</td>\n",
       "      <td>20</td>\n",
       "      <td>2</td>\n",
       "      <td>1644.0</td>\n",
       "      <td>1634</td>\n",
       "      <td>1707.0</td>\n",
       "      <td>1649</td>\n",
       "      <td>EV</td>\n",
       "      <td>...</td>\n",
       "      <td>N</td>\n",
       "      <td>0</td>\n",
       "      <td>0.0</td>\n",
       "      <td>0.0</td>\n",
       "      <td>18.0</td>\n",
       "      <td>0.0</td>\n",
       "      <td>0.0</td>\n",
       "      <td>0.816667</td>\n",
       "      <td>369.795918</td>\n",
       "      <td>True</td>\n",
       "    </tr>\n",
       "    <tr>\n",
       "      <th>1285124</th>\n",
       "      <td>4295922</td>\n",
       "      <td>2008</td>\n",
       "      <td>8</td>\n",
       "      <td>21</td>\n",
       "      <td>4</td>\n",
       "      <td>1515.0</td>\n",
       "      <td>1455</td>\n",
       "      <td>1619.0</td>\n",
       "      <td>1610</td>\n",
       "      <td>WN</td>\n",
       "      <td>...</td>\n",
       "      <td>N</td>\n",
       "      <td>0</td>\n",
       "      <td>NaN</td>\n",
       "      <td>NaN</td>\n",
       "      <td>NaN</td>\n",
       "      <td>NaN</td>\n",
       "      <td>NaN</td>\n",
       "      <td>2.866667</td>\n",
       "      <td>453.837209</td>\n",
       "      <td>False</td>\n",
       "    </tr>\n",
       "    <tr>\n",
       "      <th>1564020</th>\n",
       "      <td>5585747</td>\n",
       "      <td>2008</td>\n",
       "      <td>10</td>\n",
       "      <td>27</td>\n",
       "      <td>1</td>\n",
       "      <td>1347.0</td>\n",
       "      <td>1300</td>\n",
       "      <td>2002.0</td>\n",
       "      <td>1859</td>\n",
       "      <td>UA</td>\n",
       "      <td>...</td>\n",
       "      <td>N</td>\n",
       "      <td>0</td>\n",
       "      <td>0.0</td>\n",
       "      <td>0.0</td>\n",
       "      <td>61.0</td>\n",
       "      <td>0.0</td>\n",
       "      <td>2.0</td>\n",
       "      <td>3.716667</td>\n",
       "      <td>469.506726</td>\n",
       "      <td>True</td>\n",
       "    </tr>\n",
       "  </tbody>\n",
       "</table>\n",
       "<p>10 rows × 33 columns</p>\n",
       "</div>"
      ],
      "text/plain": [
       "         Unnamed: 0  Year  Month  DayofMonth  DayOfWeek  DepTime  CRSDepTime  \\\n",
       "82057        257638  2008      1           2          3    113.0        2205   \n",
       "1136665     3787817  2008      7           5          6   1850.0        1820   \n",
       "236643       753825  2008      2          11          1   1823.0        1731   \n",
       "1230797     4124762  2008      7          30          3   1723.0        1700   \n",
       "1404933     4772953  2008      8          16          6   2218.0        2205   \n",
       "1914502     6952536  2008     12          26          5   1848.0        1810   \n",
       "329940      1042634  2008      2          16          6   1129.0        1010   \n",
       "813647      2720327  2008      5          20          2   1644.0        1634   \n",
       "1285124     4295922  2008      8          21          4   1515.0        1455   \n",
       "1564020     5585747  2008     10          27          1   1347.0        1300   \n",
       "\n",
       "         ArrTime  CRSArrTime UniqueCarrier  ...  CancellationCode Diverted  \\\n",
       "82057      215.0        2321            US  ...                 N        0   \n",
       "1136665   2015.0        1949            OO  ...                 N        0   \n",
       "236643    2105.0        2016            OH  ...                 N        0   \n",
       "1230797   2039.0        2025            AA  ...                 N        0   \n",
       "1404933   2307.0        2300            AS  ...                 N        0   \n",
       "1914502   2108.0        2011            AS  ...                 N        0   \n",
       "329940    1327.0        1159            9E  ...                 N        0   \n",
       "813647    1707.0        1649            EV  ...                 N        0   \n",
       "1285124   1619.0        1610            WN  ...                 N        0   \n",
       "1564020   2002.0        1859            UA  ...                 N        0   \n",
       "\n",
       "         CarrierDelay  WeatherDelay  NASDelay  SecurityDelay  \\\n",
       "82057             1.0           0.0       0.0            0.0   \n",
       "1136665           0.0           0.0       0.0            0.0   \n",
       "236643           49.0           0.0       0.0            0.0   \n",
       "1230797           NaN           NaN       NaN            NaN   \n",
       "1404933           NaN           NaN       NaN            NaN   \n",
       "1914502           0.0           0.0      19.0            0.0   \n",
       "329940            0.0           0.0       9.0            0.0   \n",
       "813647            0.0           0.0      18.0            0.0   \n",
       "1285124           NaN           NaN       NaN            NaN   \n",
       "1564020           0.0           0.0      61.0            0.0   \n",
       "\n",
       "         LateAircraftDelay HoresAirT  VelocitatM  Retard  \n",
       "82057                173.0  0.850000  389.411765    True  \n",
       "1136665               26.0  1.966667  463.220339    True  \n",
       "236643                 0.0  2.500000  324.000000    True  \n",
       "1230797                NaN  2.000000  464.500000   False  \n",
       "1404933                NaN  0.683333  381.951220   False  \n",
       "1914502               38.0  1.966667  341.186441    True  \n",
       "329940                79.0  1.500000  397.333333    True  \n",
       "813647                 0.0  0.816667  369.795918    True  \n",
       "1285124                NaN  2.866667  453.837209   False  \n",
       "1564020                2.0  3.716667  469.506726    True  \n",
       "\n",
       "[10 rows x 33 columns]"
      ]
     },
     "execution_count": 363,
     "metadata": {},
     "output_type": "execute_result"
    }
   ],
   "source": [
    "df2[\"Retard\"]= np.where(df2[\"ArrDelay\"]>=15, \"True\", \"False\")\n",
    "df2.head(10)"
   ]
  },
  {
   "cell_type": "code",
   "execution_count": 121,
   "id": "96a66f46",
   "metadata": {},
   "outputs": [
    {
     "data": {
      "text/html": [
       "<div>\n",
       "<style scoped>\n",
       "    .dataframe tbody tr th:only-of-type {\n",
       "        vertical-align: middle;\n",
       "    }\n",
       "\n",
       "    .dataframe tbody tr th {\n",
       "        vertical-align: top;\n",
       "    }\n",
       "\n",
       "    .dataframe thead th {\n",
       "        text-align: right;\n",
       "    }\n",
       "</style>\n",
       "<table border=\"1\" class=\"dataframe\">\n",
       "  <thead>\n",
       "    <tr style=\"text-align: right;\">\n",
       "      <th></th>\n",
       "      <th>Unnamed: 0</th>\n",
       "      <th>Year</th>\n",
       "      <th>Month</th>\n",
       "      <th>DayofMonth</th>\n",
       "      <th>DayOfWeek</th>\n",
       "      <th>DepTime</th>\n",
       "      <th>CRSDepTime</th>\n",
       "      <th>ArrTime</th>\n",
       "      <th>CRSArrTime</th>\n",
       "      <th>UniqueCarrier</th>\n",
       "      <th>...</th>\n",
       "      <th>CarrierDelay</th>\n",
       "      <th>WeatherDelay</th>\n",
       "      <th>NASDelay</th>\n",
       "      <th>SecurityDelay</th>\n",
       "      <th>LateAircraftDelay</th>\n",
       "      <th>HoresAirT</th>\n",
       "      <th>VelocitatM</th>\n",
       "      <th>Retard</th>\n",
       "      <th>Rutes</th>\n",
       "      <th>AvRetard</th>\n",
       "    </tr>\n",
       "  </thead>\n",
       "  <tbody>\n",
       "    <tr>\n",
       "      <th>148275</th>\n",
       "      <td>486117</td>\n",
       "      <td>2008</td>\n",
       "      <td>1</td>\n",
       "      <td>10</td>\n",
       "      <td>4</td>\n",
       "      <td>1755.0</td>\n",
       "      <td>1735</td>\n",
       "      <td>2332.0</td>\n",
       "      <td>2255</td>\n",
       "      <td>AA</td>\n",
       "      <td>...</td>\n",
       "      <td>0.0</td>\n",
       "      <td>0.0</td>\n",
       "      <td>17.0</td>\n",
       "      <td>0.0</td>\n",
       "      <td>20.0</td>\n",
       "      <td>2.966667</td>\n",
       "      <td>497.528090</td>\n",
       "      <td>True</td>\n",
       "      <td>SJC AUS</td>\n",
       "      <td>si</td>\n",
       "    </tr>\n",
       "    <tr>\n",
       "      <th>1717510</th>\n",
       "      <td>6393801</td>\n",
       "      <td>2008</td>\n",
       "      <td>11</td>\n",
       "      <td>13</td>\n",
       "      <td>4</td>\n",
       "      <td>1753.0</td>\n",
       "      <td>1740</td>\n",
       "      <td>2141.0</td>\n",
       "      <td>2120</td>\n",
       "      <td>AA</td>\n",
       "      <td>...</td>\n",
       "      <td>13.0</td>\n",
       "      <td>0.0</td>\n",
       "      <td>8.0</td>\n",
       "      <td>0.0</td>\n",
       "      <td>0.0</td>\n",
       "      <td>2.516667</td>\n",
       "      <td>465.695364</td>\n",
       "      <td>True</td>\n",
       "      <td>DFW IAD</td>\n",
       "      <td>si</td>\n",
       "    </tr>\n",
       "    <tr>\n",
       "      <th>1178400</th>\n",
       "      <td>3936231</td>\n",
       "      <td>2008</td>\n",
       "      <td>7</td>\n",
       "      <td>6</td>\n",
       "      <td>7</td>\n",
       "      <td>939.0</td>\n",
       "      <td>921</td>\n",
       "      <td>1209.0</td>\n",
       "      <td>1152</td>\n",
       "      <td>EV</td>\n",
       "      <td>...</td>\n",
       "      <td>17.0</td>\n",
       "      <td>0.0</td>\n",
       "      <td>0.0</td>\n",
       "      <td>0.0</td>\n",
       "      <td>0.0</td>\n",
       "      <td>1.283333</td>\n",
       "      <td>352.987013</td>\n",
       "      <td>True</td>\n",
       "      <td>LIT ATL</td>\n",
       "      <td>si</td>\n",
       "    </tr>\n",
       "    <tr>\n",
       "      <th>983490</th>\n",
       "      <td>3296000</td>\n",
       "      <td>2008</td>\n",
       "      <td>6</td>\n",
       "      <td>1</td>\n",
       "      <td>7</td>\n",
       "      <td>1442.0</td>\n",
       "      <td>1400</td>\n",
       "      <td>1628.0</td>\n",
       "      <td>1525</td>\n",
       "      <td>WN</td>\n",
       "      <td>...</td>\n",
       "      <td>0.0</td>\n",
       "      <td>0.0</td>\n",
       "      <td>36.0</td>\n",
       "      <td>0.0</td>\n",
       "      <td>27.0</td>\n",
       "      <td>1.200000</td>\n",
       "      <td>372.500000</td>\n",
       "      <td>True</td>\n",
       "      <td>SFO SAN</td>\n",
       "      <td>si</td>\n",
       "    </tr>\n",
       "    <tr>\n",
       "      <th>1380979</th>\n",
       "      <td>4678211</td>\n",
       "      <td>2008</td>\n",
       "      <td>8</td>\n",
       "      <td>4</td>\n",
       "      <td>1</td>\n",
       "      <td>2309.0</td>\n",
       "      <td>2252</td>\n",
       "      <td>2350.0</td>\n",
       "      <td>2333</td>\n",
       "      <td>NW</td>\n",
       "      <td>...</td>\n",
       "      <td>17.0</td>\n",
       "      <td>0.0</td>\n",
       "      <td>0.0</td>\n",
       "      <td>0.0</td>\n",
       "      <td>0.0</td>\n",
       "      <td>1.366667</td>\n",
       "      <td>386.341463</td>\n",
       "      <td>True</td>\n",
       "      <td>DTW MSP</td>\n",
       "      <td>si</td>\n",
       "    </tr>\n",
       "    <tr>\n",
       "      <th>1620297</th>\n",
       "      <td>5908123</td>\n",
       "      <td>2008</td>\n",
       "      <td>10</td>\n",
       "      <td>22</td>\n",
       "      <td>3</td>\n",
       "      <td>2344.0</td>\n",
       "      <td>1805</td>\n",
       "      <td>219.0</td>\n",
       "      <td>2050</td>\n",
       "      <td>CO</td>\n",
       "      <td>...</td>\n",
       "      <td>122.0</td>\n",
       "      <td>0.0</td>\n",
       "      <td>0.0</td>\n",
       "      <td>0.0</td>\n",
       "      <td>207.0</td>\n",
       "      <td>4.183333</td>\n",
       "      <td>436.254980</td>\n",
       "      <td>True</td>\n",
       "      <td>IAH PDX</td>\n",
       "      <td>si</td>\n",
       "    </tr>\n",
       "    <tr>\n",
       "      <th>195707</th>\n",
       "      <td>636380</td>\n",
       "      <td>2008</td>\n",
       "      <td>2</td>\n",
       "      <td>12</td>\n",
       "      <td>2</td>\n",
       "      <td>1858.0</td>\n",
       "      <td>1345</td>\n",
       "      <td>26.0</td>\n",
       "      <td>1910</td>\n",
       "      <td>WN</td>\n",
       "      <td>...</td>\n",
       "      <td>305.0</td>\n",
       "      <td>0.0</td>\n",
       "      <td>3.0</td>\n",
       "      <td>0.0</td>\n",
       "      <td>8.0</td>\n",
       "      <td>3.083333</td>\n",
       "      <td>488.432432</td>\n",
       "      <td>True</td>\n",
       "      <td>DEN TPA</td>\n",
       "      <td>si</td>\n",
       "    </tr>\n",
       "    <tr>\n",
       "      <th>99209</th>\n",
       "      <td>316859</td>\n",
       "      <td>2008</td>\n",
       "      <td>1</td>\n",
       "      <td>27</td>\n",
       "      <td>7</td>\n",
       "      <td>1158.0</td>\n",
       "      <td>1135</td>\n",
       "      <td>1908.0</td>\n",
       "      <td>1855</td>\n",
       "      <td>DL</td>\n",
       "      <td>...</td>\n",
       "      <td>NaN</td>\n",
       "      <td>NaN</td>\n",
       "      <td>NaN</td>\n",
       "      <td>NaN</td>\n",
       "      <td>NaN</td>\n",
       "      <td>3.650000</td>\n",
       "      <td>557.808219</td>\n",
       "      <td>False</td>\n",
       "      <td>SFO CVG</td>\n",
       "      <td>No</td>\n",
       "    </tr>\n",
       "    <tr>\n",
       "      <th>1905663</th>\n",
       "      <td>6929572</td>\n",
       "      <td>2008</td>\n",
       "      <td>12</td>\n",
       "      <td>8</td>\n",
       "      <td>1</td>\n",
       "      <td>627.0</td>\n",
       "      <td>600</td>\n",
       "      <td>847.0</td>\n",
       "      <td>815</td>\n",
       "      <td>AA</td>\n",
       "      <td>...</td>\n",
       "      <td>27.0</td>\n",
       "      <td>0.0</td>\n",
       "      <td>5.0</td>\n",
       "      <td>0.0</td>\n",
       "      <td>0.0</td>\n",
       "      <td>1.800000</td>\n",
       "      <td>335.000000</td>\n",
       "      <td>True</td>\n",
       "      <td>HSV DFW</td>\n",
       "      <td>si</td>\n",
       "    </tr>\n",
       "    <tr>\n",
       "      <th>513902</th>\n",
       "      <td>1608671</td>\n",
       "      <td>2008</td>\n",
       "      <td>3</td>\n",
       "      <td>7</td>\n",
       "      <td>5</td>\n",
       "      <td>1525.0</td>\n",
       "      <td>1516</td>\n",
       "      <td>1656.0</td>\n",
       "      <td>1620</td>\n",
       "      <td>NW</td>\n",
       "      <td>...</td>\n",
       "      <td>9.0</td>\n",
       "      <td>0.0</td>\n",
       "      <td>27.0</td>\n",
       "      <td>0.0</td>\n",
       "      <td>0.0</td>\n",
       "      <td>2.200000</td>\n",
       "      <td>277.272727</td>\n",
       "      <td>True</td>\n",
       "      <td>DTW MEM</td>\n",
       "      <td>si</td>\n",
       "    </tr>\n",
       "  </tbody>\n",
       "</table>\n",
       "<p>10 rows × 35 columns</p>\n",
       "</div>"
      ],
      "text/plain": [
       "         Unnamed: 0  Year  Month  DayofMonth  DayOfWeek  DepTime  CRSDepTime  \\\n",
       "148275       486117  2008      1          10          4   1755.0        1735   \n",
       "1717510     6393801  2008     11          13          4   1753.0        1740   \n",
       "1178400     3936231  2008      7           6          7    939.0         921   \n",
       "983490      3296000  2008      6           1          7   1442.0        1400   \n",
       "1380979     4678211  2008      8           4          1   2309.0        2252   \n",
       "1620297     5908123  2008     10          22          3   2344.0        1805   \n",
       "195707       636380  2008      2          12          2   1858.0        1345   \n",
       "99209        316859  2008      1          27          7   1158.0        1135   \n",
       "1905663     6929572  2008     12           8          1    627.0         600   \n",
       "513902      1608671  2008      3           7          5   1525.0        1516   \n",
       "\n",
       "         ArrTime  CRSArrTime UniqueCarrier  ...  CarrierDelay WeatherDelay  \\\n",
       "148275    2332.0        2255            AA  ...           0.0          0.0   \n",
       "1717510   2141.0        2120            AA  ...          13.0          0.0   \n",
       "1178400   1209.0        1152            EV  ...          17.0          0.0   \n",
       "983490    1628.0        1525            WN  ...           0.0          0.0   \n",
       "1380979   2350.0        2333            NW  ...          17.0          0.0   \n",
       "1620297    219.0        2050            CO  ...         122.0          0.0   \n",
       "195707      26.0        1910            WN  ...         305.0          0.0   \n",
       "99209     1908.0        1855            DL  ...           NaN          NaN   \n",
       "1905663    847.0         815            AA  ...          27.0          0.0   \n",
       "513902    1656.0        1620            NW  ...           9.0          0.0   \n",
       "\n",
       "         NASDelay  SecurityDelay  LateAircraftDelay  HoresAirT  VelocitatM  \\\n",
       "148275       17.0            0.0               20.0   2.966667  497.528090   \n",
       "1717510       8.0            0.0                0.0   2.516667  465.695364   \n",
       "1178400       0.0            0.0                0.0   1.283333  352.987013   \n",
       "983490       36.0            0.0               27.0   1.200000  372.500000   \n",
       "1380979       0.0            0.0                0.0   1.366667  386.341463   \n",
       "1620297       0.0            0.0              207.0   4.183333  436.254980   \n",
       "195707        3.0            0.0                8.0   3.083333  488.432432   \n",
       "99209         NaN            NaN                NaN   3.650000  557.808219   \n",
       "1905663       5.0            0.0                0.0   1.800000  335.000000   \n",
       "513902       27.0            0.0                0.0   2.200000  277.272727   \n",
       "\n",
       "        Retard    Rutes  AvRetard  \n",
       "148275    True  SJC AUS        si  \n",
       "1717510   True  DFW IAD        si  \n",
       "1178400   True  LIT ATL        si  \n",
       "983490    True  SFO SAN        si  \n",
       "1380979   True  DTW MSP        si  \n",
       "1620297   True  IAH PDX        si  \n",
       "195707    True  DEN TPA        si  \n",
       "99209    False  SFO CVG        No  \n",
       "1905663   True  HSV DFW        si  \n",
       "513902    True  DTW MEM        si  \n",
       "\n",
       "[10 rows x 35 columns]"
      ]
     },
     "execution_count": 121,
     "metadata": {},
     "output_type": "execute_result"
    }
   ],
   "source": [
    "#Un altra manera d'afegir una columna amb condició \n",
    "df2[\"AvRetard\"]=[\"si\" if s>=15 else \"No\" for s in df2[\"ArrDelay\"]]\n",
    "df2.head(10)"
   ]
  },
  {
   "cell_type": "code",
   "execution_count": 364,
   "id": "a7b002a5",
   "metadata": {
    "scrolled": true
   },
   "outputs": [
    {
     "name": "stdout",
     "output_type": "stream",
     "text": [
      "82057      CLT DCA\n",
      "1136665    ORD COS\n",
      "236643     PWM CVG\n",
      "1230797    DFW TPA\n",
      "1404933    FAI ANC\n",
      "            ...   \n",
      "948398     LNK DEN\n",
      "1230333    SJU DFW\n",
      "800135     ORD PHX\n",
      "1693421    FLL ATL\n",
      "531134     SLC DFW\n",
      "Name: Rutes, Length: 200000, dtype: object\n"
     ]
    }
   ],
   "source": [
    "# Columna nova rutes(origen i desti)\n",
    "df2[\"Rutes\"]=df2.Origin.str.cat(df2.Dest, sep=\" \")\n",
    "print(df2[\"Rutes\"])"
   ]
  },
  {
   "cell_type": "code",
   "execution_count": 365,
   "id": "cdbbf95a",
   "metadata": {},
   "outputs": [
    {
     "name": "stdout",
     "output_type": "stream",
     "text": [
      "82057     2008-01-02\n",
      "1136665   2008-07-05\n",
      "236643    2008-02-11\n",
      "1230797   2008-07-30\n",
      "1404933   2008-08-16\n",
      "             ...    \n",
      "948398    2008-06-12\n",
      "1230333   2008-07-15\n",
      "800135    2008-05-09\n",
      "1693421   2008-11-16\n",
      "531134    2008-03-27\n",
      "Name: Data, Length: 200000, dtype: datetime64[ns]\n"
     ]
    }
   ],
   "source": [
    "df2['Data'] = pd.to_datetime(df2.Year*10000+df2.Month*100+df2.DayofMonth,format='%Y%m%d')\n",
    "print(df2[\"Data\"])"
   ]
  },
  {
   "cell_type": "code",
   "execution_count": 366,
   "id": "1d539106",
   "metadata": {},
   "outputs": [
    {
     "name": "stdout",
     "output_type": "stream",
     "text": [
      "Index(['Unnamed: 0', 'Year', 'Month', 'DayofMonth', 'DayOfWeek', 'DepTime',\n",
      "       'CRSDepTime', 'ArrTime', 'CRSArrTime', 'UniqueCarrier', 'FlightNum',\n",
      "       'TailNum', 'ActualElapsedTime', 'CRSElapsedTime', 'AirTime', 'ArrDelay',\n",
      "       'DepDelay', 'Origin', 'Dest', 'Distance', 'TaxiIn', 'TaxiOut',\n",
      "       'Cancelled', 'CancellationCode', 'Diverted', 'CarrierDelay',\n",
      "       'WeatherDelay', 'NASDelay', 'SecurityDelay', 'LateAircraftDelay',\n",
      "       'HoresAirT', 'VelocitatM', 'Retard', 'Rutes', 'Data'],\n",
      "      dtype='object')\n"
     ]
    }
   ],
   "source": [
    "#Columnes Noves= HoresAirT,VelocitatM, Retard, Rutes i Data.\n",
    "print(df2.columns)"
   ]
  },
  {
   "cell_type": "markdown",
   "id": "17390c9b",
   "metadata": {},
   "source": [
    "#### Fes una taula de les aerolínies amb més endarreriments acumulats. "
   ]
  },
  {
   "cell_type": "code",
   "execution_count": 368,
   "id": "fb67a967",
   "metadata": {},
   "outputs": [
    {
     "name": "stdout",
     "output_type": "stream",
     "text": [
      "UniqueCarrier  Retard\n",
      "WN             True      20997\n",
      "AA             True      13655\n",
      "MQ             True       9958\n",
      "UA             True       9911\n",
      "OO             True       9152\n",
      "DL             True       7483\n",
      "XE             True       7378\n",
      "US             True       6297\n",
      "CO             True       6052\n",
      "EV             True       5911\n",
      "NW             True       5761\n",
      "YV             True       5143\n",
      "FL             True       4861\n",
      "OH             True       4004\n",
      "B6             True       3962\n",
      "9E             True       3762\n",
      "AS             True       2437\n",
      "F9             True       1667\n",
      "HA             True        450\n",
      "AQ             True         50\n",
      "Name: Retard, dtype: int64\n"
     ]
    }
   ],
   "source": [
    "# num de vols en retard que han tingut cada companyia\n",
    "VC=df2[df2.Retard==\"True\"].groupby([\"UniqueCarrier\"])[\"Retard\"].value_counts()\n",
    "print(VC.sort_values(ascending=False))\n"
   ]
  },
  {
   "cell_type": "code",
   "execution_count": 369,
   "id": "813a044b",
   "metadata": {},
   "outputs": [
    {
     "name": "stdout",
     "output_type": "stream",
     "text": [
      "               Vols_Tard\n",
      "UniqueCarrier           \n",
      "WN                 20997\n",
      "AA                 13655\n",
      "MQ                  9958\n",
      "UA                  9911\n",
      "OO                  9152\n",
      "DL                  7483\n",
      "XE                  7378\n",
      "US                  6297\n",
      "CO                  6052\n",
      "EV                  5911\n",
      "NW                  5761\n",
      "YV                  5143\n",
      "FL                  4861\n",
      "OH                  4004\n",
      "B6                  3962\n",
      "9E                  3762\n",
      "AS                  2437\n",
      "F9                  1667\n",
      "HA                   450\n",
      "AQ                    50\n"
     ]
    }
   ],
   "source": [
    "#numero de retards que han tingut cada companyia  VC= Vols companyia\n",
    "#un altra manera de fer-ho\n",
    "VC=df2.groupby(['UniqueCarrier']).agg(Vols_Tard = pd.NamedAgg(column=\"Retard\",\n",
    "    aggfunc= lambda x: x[x.str.contains('True')].count()))\n",
    "print(VC.sort_values(by=\"Vols_Tard\" ,ascending=False))"
   ]
  },
  {
   "cell_type": "markdown",
   "id": "f6570add",
   "metadata": {},
   "source": [
    "#### Quins són els vols més llargs?"
   ]
  },
  {
   "cell_type": "code",
   "execution_count": 284,
   "id": "95ccf13c",
   "metadata": {},
   "outputs": [
    {
     "name": "stdout",
     "output_type": "stream",
     "text": [
      "636.0\n"
     ]
    }
   ],
   "source": [
    "print(df2[\"AirTime\"].max())  #El temps màx de vol"
   ]
  },
  {
   "cell_type": "code",
   "execution_count": 285,
   "id": "21f24515",
   "metadata": {},
   "outputs": [
    {
     "data": {
      "text/plain": [
       "FlightNum\n",
       "15      636.0\n",
       "1273    605.0\n",
       "851     586.0\n",
       "1561    563.0\n",
       "14      552.0\n",
       "        ...  \n",
       "7039     20.0\n",
       "6659     19.0\n",
       "6320     19.0\n",
       "6172     18.0\n",
       "6143      NaN\n",
       "Name: AirTime, Length: 7310, dtype: float64"
      ]
     },
     "execution_count": 285,
     "metadata": {},
     "output_type": "execute_result"
    }
   ],
   "source": [
    "# els num de vol que tenen més durada en temps AirTime= minuts volsDRD= vols Durada\n",
    "volsDRD = df2.groupby('FlightNum')['AirTime'].max()\n",
    "volsDRD.sort_values( ascending=False)\n"
   ]
  },
  {
   "cell_type": "markdown",
   "id": "75fd1dd8",
   "metadata": {},
   "source": [
    "#### I els més endarrerits?"
   ]
  },
  {
   "cell_type": "code",
   "execution_count": 286,
   "id": "bd30daa1",
   "metadata": {},
   "outputs": [
    {
     "data": {
      "text/plain": [
       "FlightNum\n",
       "808     2461.0\n",
       "394     1346.0\n",
       "1138    1312.0\n",
       "1051    1267.0\n",
       "207     1239.0\n",
       "         ...  \n",
       "6823      -9.0\n",
       "6872      -9.0\n",
       "5813     -11.0\n",
       "6809     -13.0\n",
       "6143       NaN\n",
       "Name: ArrDelay, Length: 7310, dtype: float64"
      ]
     },
     "execution_count": 286,
     "metadata": {},
     "output_type": "execute_result"
    }
   ],
   "source": [
    "# num de Vol que tenen més temps d'ArrDelay \n",
    "volsTRD = df2.groupby('FlightNum')['ArrDelay'].max()\n",
    "volsTRD.sort_values( ascending=False)"
   ]
  },
  {
   "cell_type": "code",
   "execution_count": 374,
   "id": "66f76d6f",
   "metadata": {},
   "outputs": [
    {
     "data": {
      "text/plain": [
       "Rutes\n",
       "EGE MIA    1525.0\n",
       "HNL MSP    1382.0\n",
       "LAS STL    1308.0\n",
       "KOA SEA    1202.0\n",
       "CVG LGA    1195.0\n",
       "            ...  \n",
       "FAT OGD       NaN\n",
       "MCI ICT       NaN\n",
       "PDX MSN       NaN\n",
       "ROC BOS       NaN\n",
       "SFO SMX       NaN\n",
       "Name: ArrDelay, Length: 4824, dtype: float64"
      ]
     },
     "execution_count": 374,
     "metadata": {},
     "output_type": "execute_result"
    }
   ],
   "source": [
    "#Rutes on el retard d'arribada és més gran \n",
    "RT_Tard = df2.groupby('Rutes')['ArrDelay'].max()\n",
    "RT_Tard.sort_values( ascending=False)\n"
   ]
  },
  {
   "cell_type": "code",
   "execution_count": 373,
   "id": "f1a84ad4",
   "metadata": {},
   "outputs": [
    {
     "name": "stdout",
     "output_type": "stream",
     "text": [
      "1525.0\n"
     ]
    }
   ],
   "source": [
    "print(df2[\"ArrDelay\"].max())   #El major retras a la columna ArrDelay"
   ]
  },
  {
   "cell_type": "markdown",
   "id": "9710a09f",
   "metadata": {},
   "source": [
    "Busca les rutes més llargues "
   ]
  },
  {
   "cell_type": "code",
   "execution_count": 375,
   "id": "e3955868",
   "metadata": {},
   "outputs": [
    {
     "data": {
      "text/plain": [
       "Rutes\n",
       "HNL EWR    4962\n",
       "EWR HNL    4962\n",
       "HNL ATL    4502\n",
       "ATL HNL    4502\n",
       "ORD HNL    4243\n",
       "           ... \n",
       "SNA LAX      36\n",
       "LAX SNA      36\n",
       "PSG WRG      31\n",
       "WRG PSG      31\n",
       "HPN JFK      30\n",
       "Name: Distance, Length: 4824, dtype: int64"
      ]
     },
     "execution_count": 375,
     "metadata": {},
     "output_type": "execute_result"
    }
   ],
   "source": [
    "# La ruta (Rutes) on la distancia (Distance)és més llarga\n",
    "RutaDSTC= df2.groupby(\"Rutes\")[\"Distance\"].max()\n",
    "RutaDSTC.sort_values(ascending=False)"
   ]
  },
  {
   "cell_type": "code",
   "execution_count": 376,
   "id": "03cef00b",
   "metadata": {},
   "outputs": [
    {
     "name": "stdout",
     "output_type": "stream",
     "text": [
      "4962\n"
     ]
    }
   ],
   "source": [
    "print(df2[\"Distance\"].max()) #La distancia més gran"
   ]
  },
  {
   "cell_type": "markdown",
   "id": "bf841626",
   "metadata": {},
   "source": [
    "#### i les que acumulen més retards"
   ]
  },
  {
   "cell_type": "code",
   "execution_count": 378,
   "id": "99ba5f3a",
   "metadata": {},
   "outputs": [
    {
     "data": {
      "text/plain": [
       "Rutes    Retard\n",
       "LAX SFO  True      340\n",
       "ORD LGA  True      339\n",
       "SFO LAX  True      311\n",
       "LGA ORD  True      282\n",
       "ATL LGA  True      280\n",
       "                  ... \n",
       "GST JNU  True        1\n",
       "GTF BZN  True        1\n",
       "MCO TYS  True        1\n",
       "GTF ORD  True        1\n",
       "CVG JAN  True        1\n",
       "Name: Retard, Length: 4713, dtype: int64"
      ]
     },
     "execution_count": 378,
     "metadata": {},
     "output_type": "execute_result"
    }
   ],
   "source": [
    "#Les rutes que tenen més num de retards\n",
    "numRTD = df2[df2.Retard==\"True\"].groupby ('Rutes')['Retard'].value_counts()\n",
    "numRTD.sort_values(ascending=False)"
   ]
  },
  {
   "cell_type": "markdown",
   "id": "c2a507ca",
   "metadata": {},
   "source": [
    "#### Aporta allò que consideris rellevant."
   ]
  },
  {
   "cell_type": "code",
   "execution_count": 407,
   "id": "03fc993c",
   "metadata": {},
   "outputs": [
    {
     "data": {
      "text/plain": [
       "Month  Cancelled\n",
       "11     1                5\n",
       "10     1                9\n",
       "12     1               55\n",
       "9      0             9739\n",
       "10     0            10592\n",
       "11     0            10818\n",
       "5      0            15739\n",
       "4      0            16050\n",
       "8      0            16887\n",
       "7      0            18818\n",
       "1      0            18867\n",
       "2      0            19735\n",
       "3      0            20783\n",
       "6      0            20914\n",
       "12     0            20989\n",
       "Name: Cancelled, dtype: int64"
      ]
     },
     "execution_count": 407,
     "metadata": {},
     "output_type": "execute_result"
    }
   ],
   "source": [
    "# El mes de l'any que hi han més cancelacions. Cancelacions(1=si cancelat 0=no cancelat) \n",
    "MCANC=df2.groupby(\"Month\")[\"Cancelled\"].value_counts()\n",
    "MCANC.sort_values(ascending=True)"
   ]
  },
  {
   "cell_type": "code",
   "execution_count": null,
   "id": "12cea84d",
   "metadata": {},
   "outputs": [],
   "source": [
    "#A = carrier, B = weather, C = NAS, D = security\n",
    "# quantes cancelacions han sigut degudes al mal temps i quantes x Transport"
   ]
  },
  {
   "cell_type": "code",
   "execution_count": 389,
   "id": "32902a11",
   "metadata": {},
   "outputs": [
    {
     "data": {
      "text/plain": [
       "Month  CancellationCode\n",
       "10     A                    5\n",
       "       B                    3\n",
       "11     B                    3\n",
       "       A                    2\n",
       "12     B                   23\n",
       "       A                   21\n",
       "Name: CancellationCode, dtype: int64"
      ]
     },
     "execution_count": 389,
     "metadata": {},
     "output_type": "execute_result"
    }
   ],
   "source": [
    "CANC=df2[(df2.CancellationCode==\"A\") | (df2.CancellationCode==\"B\")].groupby([\"Month\"])[\"CancellationCode\"].value_counts()\n",
    "CANC     "
   ]
  },
  {
   "cell_type": "code",
   "execution_count": 390,
   "id": "0389ab1e",
   "metadata": {},
   "outputs": [
    {
     "name": "stdout",
     "output_type": "stream",
     "text": [
      "        Origen_Tard\n",
      "Origin             \n",
      "ORD            9377\n",
      "ATL            9024\n",
      "DFW            6210\n",
      "DEN            4731\n",
      "EWR            3817\n",
      "...             ...\n",
      "BPT               1\n",
      "YKM               1\n",
      "HTS               1\n",
      "ACY               0\n",
      "BLI               0\n",
      "\n",
      "[299 rows x 1 columns]\n"
     ]
    }
   ],
   "source": [
    "# l'origen on han hagut més retards \n",
    "ORGTard =df2.groupby(['Origin']).agg(Origen_Tard = pd.NamedAgg(column=\"Retard\",\n",
    "    aggfunc= lambda x: x[x.str.contains('True')].count()))\n",
    "print(ORGTard.sort_values(by=\"Origen_Tard\" ,ascending=False))"
   ]
  },
  {
   "cell_type": "code",
   "execution_count": 402,
   "id": "787ddf74",
   "metadata": {},
   "outputs": [
    {
     "name": "stdout",
     "output_type": "stream",
     "text": [
      "Dies amb més retards Data\n",
      "2008-12-22    822\n",
      "2008-11-30    822\n",
      "2008-12-01    809\n",
      "2008-12-19    797\n",
      "2008-12-23    793\n",
      "             ... \n",
      "2008-10-18     93\n",
      "2008-05-25     93\n",
      "2008-08-31     89\n",
      "2008-11-27     87\n",
      "2008-11-28     82\n",
      "Name: Retard, Length: 366, dtype: int64\n",
      "Dies amb menys retards Data\n",
      "2008-11-28     82\n",
      "2008-11-27     87\n",
      "2008-08-31     89\n",
      "2008-10-18     93\n",
      "2008-05-25     93\n",
      "             ... \n",
      "2008-12-23    793\n",
      "2008-12-19    797\n",
      "2008-12-01    809\n",
      "2008-12-22    822\n",
      "2008-11-30    822\n",
      "Name: Retard, Length: 366, dtype: int64\n"
     ]
    }
   ],
   "source": [
    "#Dia/mes/any que més retards hi han i els dies que menys \n",
    "DATA_Tard=df2[df2.Retard==\"True\"].groupby([\"Data\"])[\"Retard\"].count()\n",
    "print(\"Dies amb més retards\",DATA_Tard.sort_values(ascending=False))\n",
    "print(\"Dies amb menys retards\",DATA_Tard.sort_values(ascending=True))"
   ]
  },
  {
   "cell_type": "markdown",
   "id": "a5ad9519",
   "metadata": {},
   "source": [
    "### Exercici 3\n",
    "#### Exporta el dataset net i amb les noves columnes a Excel."
   ]
  },
  {
   "cell_type": "code",
   "execution_count": 404,
   "id": "47ee3850",
   "metadata": {},
   "outputs": [],
   "source": [
    "df2.to_excel(\"DelayedFlightsEXC.xlsx\")"
   ]
  },
  {
   "cell_type": "code",
   "execution_count": null,
   "id": "cce44b49",
   "metadata": {},
   "outputs": [],
   "source": []
  }
 ],
 "metadata": {
  "kernelspec": {
   "display_name": "Python 3 (ipykernel)",
   "language": "python",
   "name": "python3"
  },
  "language_info": {
   "codemirror_mode": {
    "name": "ipython",
    "version": 3
   },
   "file_extension": ".py",
   "mimetype": "text/x-python",
   "name": "python",
   "nbconvert_exporter": "python",
   "pygments_lexer": "ipython3",
   "version": "3.9.12"
  }
 },
 "nbformat": 4,
 "nbformat_minor": 5
}
